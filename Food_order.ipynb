{
  "nbformat": 4,
  "nbformat_minor": 0,
  "metadata": {
    "colab": {
      "provenance": []
    },
    "kernelspec": {
      "name": "python3",
      "display_name": "Python 3"
    },
    "language_info": {
      "name": "python"
    }
  },
  "cells": [
    {
      "cell_type": "code",
      "execution_count": 3,
      "metadata": {
        "colab": {
          "base_uri": "https://localhost:8080/"
        },
        "id": "v6m9KpqPaAZ_",
        "outputId": "c4a0bd84-4e04-482f-fa04-7b2effd520cc"
      },
      "outputs": [
        {
          "output_type": "stream",
          "name": "stdout",
          "text": [
            "\n",
            "--- Hotel Menu ---\n",
            "1. Pasta - ₹200\n",
            "2. Pizza - ₹300\n",
            "3. Burger - ₹150\n",
            "4. Salad - ₹100\n",
            "5. Soup - ₹80\n",
            "6. Frankie - ₹60\n",
            "7. Maggie - ₹30\n",
            "8. Momos - ₹90\n",
            "9. Sandwich - ₹40\n",
            "10. Manchurian - ₹25\n",
            "Enter the item number to order (0 to finish): 10\n",
            "Enter the quantity for Manchurian: 5\n",
            "Enter the item number to order (0 to finish): 7\n",
            "Enter the quantity for Maggie: 1\n",
            "Enter the item number to order (0 to finish): 2\n",
            "Enter the quantity for Pizza: 2\n",
            "Enter the item number to order (0 to finish): 6\n",
            "Enter the quantity for Frankie: 3\n",
            "Enter the item number to order (0 to finish): 0\n",
            "\n",
            "--- Order Summary ---\n",
            "Manchurian x 5 = ₹125\n",
            "Maggie x 1 = ₹30\n",
            "Pizza x 2 = ₹600\n",
            "Frankie x 3 = ₹180\n",
            "Total Amount: ₹935\n",
            "Thank you for your order!\n"
          ]
        }
      ],
      "source": [
        "def display_menu():\n",
        "    print(\"\\n--- Hotel Menu ---\")\n",
        "    menu = {\n",
        "        1: (\"Pasta\", 200),\n",
        "        2: (\"Pizza\", 300),\n",
        "        3: (\"Burger\", 150),\n",
        "        4: (\"Salad\", 100),\n",
        "        5: (\"Soup\", 80),\n",
        "        6: (\"Frankie\",60),\n",
        "        7: (\"Maggie\",30),\n",
        "        8: (\"Momos\",90),\n",
        "        9: (\"Sandwich\",40),\n",
        "        10:(\"Manchurian\",25)\n",
        "    }\n",
        "    for item_number, (dish, price) in menu.items():\n",
        "        print(f\"{item_number}. {dish} - ₹{price}\")\n",
        "    return menu\n",
        "\n",
        "def take_order(menu):\n",
        "    order = {}\n",
        "    while True:\n",
        "        try:\n",
        "            item_number = int(input(\"Enter the item number to order (0 to finish): \"))\n",
        "            if item_number == 0:\n",
        "                break\n",
        "            if item_number in menu:\n",
        "                quantity = int(input(f\"Enter the quantity for {menu[item_number][0]}: \"))\n",
        "                if item_number in order:\n",
        "                    order[item_number] += quantity\n",
        "                else:\n",
        "                    order[item_number] = quantity\n",
        "            else:\n",
        "                print(\"Invalid item number. Please try again.\")\n",
        "        except ValueError:\n",
        "            print(\"Invalid input. Please enter a number.\")\n",
        "    return order\n",
        "\n",
        "def calculate_total(order, menu):\n",
        "    total = 0\n",
        "    print(\"\\n--- Order Summary ---\")\n",
        "    for item_number, quantity in order.items():\n",
        "        dish, price = menu[item_number]\n",
        "        print(f\"{dish} x {quantity} = ₹{price * quantity}\")\n",
        "        total += price * quantity\n",
        "    print(f\"Total Amount: ₹{total}\")\n",
        "    return total\n",
        "\n",
        "def main():\n",
        "    menu = display_menu()\n",
        "    order = take_order(menu)\n",
        "    if order:\n",
        "        calculate_total(order, menu)\n",
        "        print(\"Thank you for your order!\")\n",
        "    else:\n",
        "        print(\"No items ordered.\")\n",
        "\n",
        "if __name__ == \"__main__\":\n",
        "    main()\n"
      ]
    }
  ]
}